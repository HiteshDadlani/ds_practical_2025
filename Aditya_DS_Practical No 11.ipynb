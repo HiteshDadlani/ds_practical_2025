{
 "cells": [
  {
   "cell_type": "markdown",
   "id": "02e07576",
   "metadata": {},
   "source": [
    "# Data Analytics III\n",
    "\n",
    "                                      -By Aditya Nikam(TE AI & DS)\n",
    "    \n",
    "1Implement Simple Naïve Bayes classification algorithm using Python/R on iris.csv dataset.\n",
    "\n",
    "2.Compute Confusion matrix to find TP, FP, TN, FN, Accuracy, Error rate,\n",
    "Precision, Recall on the given dataset."
   ]
  },
  {
   "cell_type": "code",
   "execution_count": 1,
   "id": "aff77f85",
   "metadata": {},
   "outputs": [
    {
     "name": "stderr",
     "output_type": "stream",
     "text": [
      "C:\\Users\\champ\\PycharmProjects\\Tutorials\\a\\lib\\site-packages\\pandas\\core\\computation\\expressions.py:21: UserWarning: Pandas requires version '2.8.4' or newer of 'numexpr' (version '2.8.3' currently installed).\n",
      "  from pandas.core.computation.check import NUMEXPR_INSTALLED\n",
      "C:\\Users\\champ\\PycharmProjects\\Tutorials\\a\\lib\\site-packages\\pandas\\core\\arrays\\masked.py:60: UserWarning: Pandas requires version '1.3.6' or newer of 'bottleneck' (version '1.3.5' currently installed).\n",
      "  from pandas.core import (\n"
     ]
    }
   ],
   "source": [
    "import numpy as np\n",
    "import pandas as pd\n",
    "import warnings\n",
    "warnings.filterwarnings('ignore')#we use this to ignore the warnings means in the output warnings should not appear"
   ]
  },
  {
   "cell_type": "code",
   "execution_count": 2,
   "id": "9a9e6181",
   "metadata": {},
   "outputs": [
    {
     "data": {
      "text/html": [
       "<div>\n",
       "<style scoped>\n",
       "    .dataframe tbody tr th:only-of-type {\n",
       "        vertical-align: middle;\n",
       "    }\n",
       "\n",
       "    .dataframe tbody tr th {\n",
       "        vertical-align: top;\n",
       "    }\n",
       "\n",
       "    .dataframe thead th {\n",
       "        text-align: right;\n",
       "    }\n",
       "</style>\n",
       "<table border=\"1\" class=\"dataframe\">\n",
       "  <thead>\n",
       "    <tr style=\"text-align: right;\">\n",
       "      <th></th>\n",
       "      <th>sepal_length</th>\n",
       "      <th>sepal_width</th>\n",
       "      <th>petal_length</th>\n",
       "      <th>petal_width</th>\n",
       "      <th>species</th>\n",
       "    </tr>\n",
       "  </thead>\n",
       "  <tbody>\n",
       "    <tr>\n",
       "      <th>0</th>\n",
       "      <td>5.1</td>\n",
       "      <td>3.5</td>\n",
       "      <td>1.4</td>\n",
       "      <td>0.2</td>\n",
       "      <td>Iris-setosa</td>\n",
       "    </tr>\n",
       "    <tr>\n",
       "      <th>1</th>\n",
       "      <td>4.9</td>\n",
       "      <td>3.0</td>\n",
       "      <td>1.4</td>\n",
       "      <td>0.2</td>\n",
       "      <td>Iris-setosa</td>\n",
       "    </tr>\n",
       "    <tr>\n",
       "      <th>2</th>\n",
       "      <td>4.7</td>\n",
       "      <td>3.2</td>\n",
       "      <td>1.3</td>\n",
       "      <td>0.2</td>\n",
       "      <td>Iris-setosa</td>\n",
       "    </tr>\n",
       "    <tr>\n",
       "      <th>3</th>\n",
       "      <td>4.6</td>\n",
       "      <td>3.1</td>\n",
       "      <td>1.5</td>\n",
       "      <td>0.2</td>\n",
       "      <td>Iris-setosa</td>\n",
       "    </tr>\n",
       "    <tr>\n",
       "      <th>4</th>\n",
       "      <td>5.0</td>\n",
       "      <td>3.6</td>\n",
       "      <td>1.4</td>\n",
       "      <td>0.2</td>\n",
       "      <td>Iris-setosa</td>\n",
       "    </tr>\n",
       "    <tr>\n",
       "      <th>...</th>\n",
       "      <td>...</td>\n",
       "      <td>...</td>\n",
       "      <td>...</td>\n",
       "      <td>...</td>\n",
       "      <td>...</td>\n",
       "    </tr>\n",
       "    <tr>\n",
       "      <th>145</th>\n",
       "      <td>6.7</td>\n",
       "      <td>3.0</td>\n",
       "      <td>5.2</td>\n",
       "      <td>2.3</td>\n",
       "      <td>Iris-virginica</td>\n",
       "    </tr>\n",
       "    <tr>\n",
       "      <th>146</th>\n",
       "      <td>6.3</td>\n",
       "      <td>2.5</td>\n",
       "      <td>5.0</td>\n",
       "      <td>1.9</td>\n",
       "      <td>Iris-virginica</td>\n",
       "    </tr>\n",
       "    <tr>\n",
       "      <th>147</th>\n",
       "      <td>6.5</td>\n",
       "      <td>3.0</td>\n",
       "      <td>5.2</td>\n",
       "      <td>2.0</td>\n",
       "      <td>Iris-virginica</td>\n",
       "    </tr>\n",
       "    <tr>\n",
       "      <th>148</th>\n",
       "      <td>6.2</td>\n",
       "      <td>3.4</td>\n",
       "      <td>5.4</td>\n",
       "      <td>2.3</td>\n",
       "      <td>Iris-virginica</td>\n",
       "    </tr>\n",
       "    <tr>\n",
       "      <th>149</th>\n",
       "      <td>5.9</td>\n",
       "      <td>3.0</td>\n",
       "      <td>5.1</td>\n",
       "      <td>1.8</td>\n",
       "      <td>Iris-virginica</td>\n",
       "    </tr>\n",
       "  </tbody>\n",
       "</table>\n",
       "<p>150 rows × 5 columns</p>\n",
       "</div>"
      ],
      "text/plain": [
       "     sepal_length  sepal_width  petal_length  petal_width         species\n",
       "0             5.1          3.5           1.4          0.2     Iris-setosa\n",
       "1             4.9          3.0           1.4          0.2     Iris-setosa\n",
       "2             4.7          3.2           1.3          0.2     Iris-setosa\n",
       "3             4.6          3.1           1.5          0.2     Iris-setosa\n",
       "4             5.0          3.6           1.4          0.2     Iris-setosa\n",
       "..            ...          ...           ...          ...             ...\n",
       "145           6.7          3.0           5.2          2.3  Iris-virginica\n",
       "146           6.3          2.5           5.0          1.9  Iris-virginica\n",
       "147           6.5          3.0           5.2          2.0  Iris-virginica\n",
       "148           6.2          3.4           5.4          2.3  Iris-virginica\n",
       "149           5.9          3.0           5.1          1.8  Iris-virginica\n",
       "\n",
       "[150 rows x 5 columns]"
      ]
     },
     "execution_count": 2,
     "metadata": {},
     "output_type": "execute_result"
    }
   ],
   "source": [
    "df=pd.read_csv(r\"C:\\Users\\champ\\Downloads\\IRIS.csv\")#this is to import the dataset.\n",
    "#The dataset is a csv file.df is the name given to the dataset\n",
    "df#this is written to display the dataset"
   ]
  },
  {
   "cell_type": "code",
   "execution_count": 3,
   "id": "f9c842e1",
   "metadata": {},
   "outputs": [
    {
     "data": {
      "text/html": [
       "<div>\n",
       "<style scoped>\n",
       "    .dataframe tbody tr th:only-of-type {\n",
       "        vertical-align: middle;\n",
       "    }\n",
       "\n",
       "    .dataframe tbody tr th {\n",
       "        vertical-align: top;\n",
       "    }\n",
       "\n",
       "    .dataframe thead th {\n",
       "        text-align: right;\n",
       "    }\n",
       "</style>\n",
       "<table border=\"1\" class=\"dataframe\">\n",
       "  <thead>\n",
       "    <tr style=\"text-align: right;\">\n",
       "      <th></th>\n",
       "      <th>sepal_length</th>\n",
       "      <th>sepal_width</th>\n",
       "      <th>petal_length</th>\n",
       "      <th>petal_width</th>\n",
       "      <th>species</th>\n",
       "    </tr>\n",
       "  </thead>\n",
       "  <tbody>\n",
       "    <tr>\n",
       "      <th>0</th>\n",
       "      <td>5.1</td>\n",
       "      <td>3.5</td>\n",
       "      <td>1.4</td>\n",
       "      <td>0.2</td>\n",
       "      <td>Iris-setosa</td>\n",
       "    </tr>\n",
       "    <tr>\n",
       "      <th>1</th>\n",
       "      <td>4.9</td>\n",
       "      <td>3.0</td>\n",
       "      <td>1.4</td>\n",
       "      <td>0.2</td>\n",
       "      <td>Iris-setosa</td>\n",
       "    </tr>\n",
       "    <tr>\n",
       "      <th>2</th>\n",
       "      <td>4.7</td>\n",
       "      <td>3.2</td>\n",
       "      <td>1.3</td>\n",
       "      <td>0.2</td>\n",
       "      <td>Iris-setosa</td>\n",
       "    </tr>\n",
       "    <tr>\n",
       "      <th>3</th>\n",
       "      <td>4.6</td>\n",
       "      <td>3.1</td>\n",
       "      <td>1.5</td>\n",
       "      <td>0.2</td>\n",
       "      <td>Iris-setosa</td>\n",
       "    </tr>\n",
       "    <tr>\n",
       "      <th>4</th>\n",
       "      <td>5.0</td>\n",
       "      <td>3.6</td>\n",
       "      <td>1.4</td>\n",
       "      <td>0.2</td>\n",
       "      <td>Iris-setosa</td>\n",
       "    </tr>\n",
       "  </tbody>\n",
       "</table>\n",
       "</div>"
      ],
      "text/plain": [
       "   sepal_length  sepal_width  petal_length  petal_width      species\n",
       "0           5.1          3.5           1.4          0.2  Iris-setosa\n",
       "1           4.9          3.0           1.4          0.2  Iris-setosa\n",
       "2           4.7          3.2           1.3          0.2  Iris-setosa\n",
       "3           4.6          3.1           1.5          0.2  Iris-setosa\n",
       "4           5.0          3.6           1.4          0.2  Iris-setosa"
      ]
     },
     "execution_count": 3,
     "metadata": {},
     "output_type": "execute_result"
    }
   ],
   "source": [
    "df.head()#it display the first five rows of the dataset.Its default value is 5"
   ]
  },
  {
   "cell_type": "code",
   "execution_count": 4,
   "id": "b83c651f",
   "metadata": {},
   "outputs": [
    {
     "name": "stdout",
     "output_type": "stream",
     "text": [
      "<class 'pandas.core.frame.DataFrame'>\n",
      "RangeIndex: 150 entries, 0 to 149\n",
      "Data columns (total 5 columns):\n",
      " #   Column        Non-Null Count  Dtype  \n",
      "---  ------        --------------  -----  \n",
      " 0   sepal_length  150 non-null    float64\n",
      " 1   sepal_width   150 non-null    float64\n",
      " 2   petal_length  150 non-null    float64\n",
      " 3   petal_width   150 non-null    float64\n",
      " 4   species       150 non-null    object \n",
      "dtypes: float64(4), object(1)\n",
      "memory usage: 6.0+ KB\n"
     ]
    }
   ],
   "source": [
    "df.info()#It gives the summary of the dataframe and it tells how many non null values are there in each column ,what \n",
    "#is the data type of each coloumn,how many columns are there in the dataset\n",
    "#Here we can see that in our dataset there are 5 coloumns where 4 coloumns have float Datatype\n",
    "#1 coloumns has object data type"
   ]
  },
  {
   "cell_type": "code",
   "execution_count": 5,
   "id": "350cf8f9",
   "metadata": {},
   "outputs": [
    {
     "data": {
      "text/plain": [
       "sepal_length    0\n",
       "sepal_width     0\n",
       "petal_length    0\n",
       "petal_width     0\n",
       "species         0\n",
       "dtype: int64"
      ]
     },
     "execution_count": 5,
     "metadata": {},
     "output_type": "execute_result"
    }
   ],
   "source": [
    "df.isnull().sum()#This displays the number of null values in each column"
   ]
  },
  {
   "cell_type": "code",
   "execution_count": 6,
   "id": "f57b18b2",
   "metadata": {},
   "outputs": [],
   "source": [
    "x=df[['sepal_length','sepal_width','petal_length','petal_width']]#Input to our model\n",
    "y=df['species']#Output for our model"
   ]
  },
  {
   "cell_type": "code",
   "execution_count": 7,
   "id": "6d4a0b79",
   "metadata": {},
   "outputs": [],
   "source": [
    "from sklearn.model_selection import train_test_split#Here we are importing train_test_split from sci-kit learn\n",
    "xtrain, xtest, ytrain, ytest = train_test_split(x, y, test_size=0.2, random_state=42)#We are taking the values of \n",
    "#sepal_length,sepal_width,petal_length,petal_width which are inputs(X) for the model and Purchased which is output for \n",
    "#the model(Y) So we are dividing their values into training and testing 80% of data is training\n",
    "#test_size=0.2 denotes 20% of data wil be testing dataset\n",
    "#random state ensures that whenever we run the program every time the same values of the data are taken for training \n",
    "#and testing means suppose we have 100 records in our data out of which we are using 80  for training and 20 for testing\n",
    "#so every time the same 80 values will be in training and same 20 values will be in testing means not a single record of \n",
    "#training data will go in the testing data and not single value of testing data will come in training data means there will\n",
    "#be no shuffling of records the same data will be used for training and testing every time we run the program this is \n",
    "#the use of random state\n",
    "\n",
    "#In random_state=42 42 is just a normal number there is no role of zero we have to just write it when we are using \n",
    "#random_state  we can use any other number other than zero as well like 1,4,10 etc.42 is the most common number you see\n",
    "#in programs"
   ]
  },
  {
   "cell_type": "code",
   "execution_count": 8,
   "id": "17bc946c",
   "metadata": {},
   "outputs": [
    {
     "name": "stdout",
     "output_type": "stream",
     "text": [
      "120\n",
      "120\n",
      "30\n",
      "30\n"
     ]
    }
   ],
   "source": [
    "print(len(xtrain))#it will print the no.of records(rows)of input which will be used in training dataset\n",
    "print(len(ytrain))#it will print the no.of records(rows)of outputwhich will be used in training dataset\n",
    "print(len(xtest))#it will print the no.of records(rows)of input which will be used in testing dataset\n",
    "print(len(ytest))#it will print the no.of records(rows)of output which will be used in testing dataset"
   ]
  },
  {
   "cell_type": "code",
   "execution_count": 9,
   "id": "e7bbbfe2",
   "metadata": {},
   "outputs": [],
   "source": [
    "from sklearn.naive_bayes import GaussianNB#we are importing Gaussian Naive Bayes from sci-kit learn\n",
    "model = GaussianNB()#we created object of Gaussian Naive Bayes\n",
    "\n",
    "#We have used GaussianNB because our input which is sepal_length,sepal_width,petal_length,petal_width are all numeric\n",
    "#and when we have numeric data then we use GaussianNB which is a type of Naive Bayes\n",
    "\n",
    "#Naive Bayes is a machine learning algorithm used when we want to predict a category from the input like here we will\n",
    "#predict categories like Iris-setosa Iris-virginica etc so we have imported Gaussian NB from Naive Bayes.\n",
    "#It is based on Bayes’ Theorem, which uses probability to guess the right class.\n",
    "\n",
    "#Bayes’ Theorem Formula:\n",
    "#                                𝑃(𝐴∣𝐵)=𝑃(𝐵∣𝐴)×𝑃(𝐴)/𝑃(𝐵)\n",
    "\n",
    "#Simple Meaning:\n",
    "#\"What is the chance of A happening, if B has already happened?\"\n",
    "#For example:\n",
    "#What's the chance a student passed, if we know they studied 10 hours?"
   ]
  },
  {
   "cell_type": "code",
   "execution_count": 10,
   "id": "73375dde",
   "metadata": {},
   "outputs": [
    {
     "data": {
      "text/plain": [
       "GaussianNB()"
      ]
     },
     "execution_count": 10,
     "metadata": {},
     "output_type": "execute_result"
    }
   ],
   "source": [
    "model.fit(xtrain,ytrain)#it teaches the Gaussian NB model using the training dataset means here we have the inputs\n",
    "#in xtrain and we have outputs also already defit for the inputs in ytrain now the model learns this data so that it \n",
    "#can predict values when any unseen/new data comes to predict"
   ]
  },
  {
   "cell_type": "code",
   "execution_count": 11,
   "id": "476a81c4",
   "metadata": {},
   "outputs": [],
   "source": [
    "y_pred = model.predict(xtest)#it tells the model to predict the output for the input(xtest).We are testing the model here\n",
    "#after training"
   ]
  },
  {
   "cell_type": "code",
   "execution_count": 12,
   "id": "9ff27502",
   "metadata": {},
   "outputs": [],
   "source": [
    "from sklearn.metrics import accuracy_score #sklearn.metric is used to import metrics\n",
    "score=accuracy_score(ytest,y_pred)#Accuracy score formula is number of correct predictions/total no.of predictions\n",
    "#ytest means the correct outputs and y_predicted means predicted output"
   ]
  },
  {
   "cell_type": "code",
   "execution_count": 13,
   "id": "729448bc",
   "metadata": {},
   "outputs": [
    {
     "name": "stdout",
     "output_type": "stream",
     "text": [
      "Confusion Matrix:\n",
      " [[10  0  0]\n",
      " [ 0  9  0]\n",
      " [ 0  0 11]]\n"
     ]
    }
   ],
   "source": [
    "from sklearn.metrics import confusion_matrix\n",
    "cm=confusion_matrix(ytest, y_pred)#it creates a confusion matrix of model's predicted answers\n",
    "#(y_pred)and actual answers(ytest)\n",
    "print(\"Confusion Matrix:\\n\", cm)\n",
    "\n",
    "#Confusion Matrix is a table that helps you to know how well the model is performing.It divides the predictions in four \n",
    "#types which are True Positive(TP),True Negative(TN),False Positive(FP) & False Negative(FN)\n",
    "\n",
    "#True Positive(TP)means when model predicted answers match to the actual output\n",
    "#Like for Example if a model predicts that student will pass the exam and if the student really passes the exam then its \n",
    "#True Positive\n",
    "\n",
    "##True Negative(TN)also means when model predicted answers match to the actual output\n",
    "#Like for Example if a model predicts that student will fail the exam and if the student fails(actual output) the exam \n",
    "#then its True Negative\n",
    "\n",
    "#False Positive(FP) and False Negative(FN) means when the model predicted answers match to the actual output\n",
    "\n",
    "#Like for Example if a model predicts that student will fail the exam and if the student pass(actual output) the exam \n",
    "#then its False Negative(FN)\n",
    "\n",
    "#If a model predicts that student will pass the exam and if the student fails(actual output) the exam \n",
    "#then its False Positive"
   ]
  },
  {
   "cell_type": "code",
   "execution_count": 14,
   "id": "df83647d",
   "metadata": {},
   "outputs": [
    {
     "data": {
      "image/png": "[encoded data removed]",
      "text/plain": [
       "<Figure size 500x400 with 2 Axes>"
      ]
     },
     "metadata": {},
     "output_type": "display_data"
    }
   ],
   "source": [
    "#Plotting the confusion matrix\n",
    "import matplotlib.pyplot as plt\n",
    "import seaborn as sns\n",
    "plt.figure(figsize=(5,4))#plotted the size of the heatmp\n",
    "sns.heatmap(cm, annot=True)#annot=True is used to print the numbers like 10,0,9,11 in the boxes of the heatmap\n",
    "plt.title('Confusion Matrix')#Title of heatmap\n",
    "plt.ylabel('Actual Values')#label for y axis\n",
    "plt.xlabel('Predicted Values')#label for x axis\n",
    "plt.show()#used to display the plot(in this case heatmp)\n",
    "\n",
    "#In this heatmap lighter colors indicate more number and darker color indicate very less number or zero\n",
    "\n",
    "#Heatmap is used to show Confusion matrix because its visually appealing and better than normal confusion matrix\n",
    "#because heatmap adds colors to confusion matrix\n",
    "\n",
    "#Here 0,1,and 2 on x and y axis of heatmap indicate the classes of the output means 0 means Iris Setosa\n",
    "#1 means Iris Versicolor and 2 means Iris Virginica now you will wonder where and how these numbers are assigned\n",
    "#so the answer is that we know that our output column(y)is species so the values of Species are column are converted into \n",
    "#numeric values in Species column Iris Setosa is the first unique value so it is assigned number zero then the next \n",
    "#unique value is Iris Versicolor so it is assigned number 1 and then the next unique value is Iris Virginica so that is \n",
    "#assigned value as 2 this all is done internally\n",
    "\n",
    "#Here our confusion matrix is 3x3 because there are three classes in Species column which are Iris Setosa,Iris Versicolor \n",
    "#and Iris Virginica if there were only two classes then the confusion matrix would have be 2x2\n",
    "\n",
    "#These heatmap/confusion matrix tells that all 11 Iris Setosa species were predicted correctly all 9 Iris Versicolor \n",
    "#were predicted correctly and all 11 Iris Versicolor we predicted correctly means the model has not made any mistakes\n",
    "#in prediction thats why the model accuracy is 1.00 means 100%\n",
    "\n",
    "#Now you will tell that the datset has 150 rows so how only 10,11, and 9 predicted correctly gives 100% accuracy the answer \n",
    "#to this is that out of 150 records we used 30 records for training so 10+11+9=30 thats what our record in training \n",
    "#dataset were\n",
    "\n",
    "#What is happening in this heatmap/confusion matrix is that the heatmap is reduced to 2x2 size internally then confusion \n",
    "#matrix has now in y axis 0 value means class is Iris Setosa yes and 0 in x axis means model predicts Iris Setosa as yes\n",
    "#and 1 on x axis means class 1&2(Iris Versicolor and Iris Verginica)no and 1 on y axis means class class 1&2(Iris Versicolor \n",
    "#and Iris Verginica)no so model predicts all Iris Setosa values correctly so all 10 values are True Positive similarly\n",
    "#for others\n",
    "#For better understanding see this youtube video  https://www.youtube.com/watch?v=gkNccYwtAbU"
   ]
  },
  {
   "cell_type": "code",
   "execution_count": 15,
   "id": "cd07b3b0",
   "metadata": {},
   "outputs": [],
   "source": [
    "TP = cm[1][1]#Model predicted class 1 and it was actually class 1\n",
    "FP = cm[0][1]#Model predicted class 0 and it was actually  class 1\n",
    "TN = cm[0][0]#Model predicted class 0 and it was actually  class 0\n",
    "FN = cm[1][0]#Model predicted class 1 and it was actually  class 0\n",
    "\n",
    "#Here we have calculated the TP,FP,TN and FN values for class 1(Iris Versicolor) only"
   ]
  },
  {
   "cell_type": "code",
   "execution_count": 16,
   "id": "c745532d",
   "metadata": {},
   "outputs": [
    {
     "name": "stdout",
     "output_type": "stream",
     "text": [
      "TP = 9\n",
      "FP = 0\n",
      "FN = 0\n",
      "TN = 10\n"
     ]
    }
   ],
   "source": [
    "print(\"TP =\",TP)#printing value of TP\n",
    "print(\"FP =\",FP)#printing value of FP\n",
    "print(\"FN =\",FN)#printing value of TN\n",
    "print(\"TN =\",TN)#printing value of FN\n",
    "\n",
    "#Here we have calculated the TP,FP,TN and FN values for class 1(Iris Versicolor)"
   ]
  },
  {
   "cell_type": "code",
   "execution_count": 17,
   "id": "9e521a33",
   "metadata": {},
   "outputs": [],
   "source": [
    "accuracy=(TP+TN)/(TP+FP+TN+FN)#formula to calculate accuracy\n",
    "precision=TP/(TP+FP)#formula to calculate precision\n",
    "recall=TP/(TP+FN)#formula to calculate recall\n",
    "f1_Score=(2*precision*recall)/(precision+recall)#formula to calculate f1 score"
   ]
  },
  {
   "cell_type": "code",
   "execution_count": 18,
   "id": "2b7df672",
   "metadata": {},
   "outputs": [
    {
     "name": "stdout",
     "output_type": "stream",
     "text": [
      "accuracy: 1.0\n",
      "precision: 1.0\n",
      "recall: 1.0\n",
      "f1_score: 1.0\n"
     ]
    }
   ],
   "source": [
    "print('accuracy:',accuracy)#printing accuracy\n",
    "print('precision:',precision)#printing precision\n",
    "print('recall:',recall)#printing recall\n",
    "print('f1_score:',f1_Score)#printing f1 score"
   ]
  },
  {
   "cell_type": "code",
   "execution_count": null,
   "id": "b09b64a0",
   "metadata": {},
   "outputs": [],
   "source": []
  }
 ],
 "metadata": {
  "kernelspec": {
   "display_name": "Python 3 (ipykernel)",
   "language": "python",
   "name": "python3"
  },
  "language_info": {
   "codemirror_mode": {
    "name": "ipython",
    "version": 3
   },
   "file_extension": ".py",
   "mimetype": "text/x-python",
   "name": "python",
   "nbconvert_exporter": "python",
   "pygments_lexer": "ipython3",
   "version": "3.9.13"
  }
 },
 "nbformat": 4,
 "nbformat_minor": 5
}
