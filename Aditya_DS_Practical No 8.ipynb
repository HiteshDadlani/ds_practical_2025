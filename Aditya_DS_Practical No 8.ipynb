{
 "cells": [
  {
   "cell_type": "markdown",
   "id": "10aca764",
   "metadata": {},
   "source": [
    "# Data Analytics I:\n",
    "\n",
    "                                                   -By Aditya Nikam(TE AI & DS)\n",
    "\n",
    "Show linear regression technique for user values\n",
    "\n",
    "Create a Linear Regression Model using Python/R to predict salary of 15\n",
    "years of experience using salary_csv file."
   ]
  },
  {
   "cell_type": "code",
   "execution_count": 1,
   "id": "7f3428c9",
   "metadata": {},
   "outputs": [
    {
     "name": "stderr",
     "output_type": "stream",
     "text": [
      "C:\\Users\\champ\\PycharmProjects\\Tutorials\\a\\lib\\site-packages\\pandas\\core\\computation\\expressions.py:21: UserWarning: Pandas requires version '2.8.4' or newer of 'numexpr' (version '2.8.3' currently installed).\n",
      "  from pandas.core.computation.check import NUMEXPR_INSTALLED\n",
      "C:\\Users\\champ\\PycharmProjects\\Tutorials\\a\\lib\\site-packages\\pandas\\core\\arrays\\masked.py:60: UserWarning: Pandas requires version '1.3.6' or newer of 'bottleneck' (version '1.3.5' currently installed).\n",
      "  from pandas.core import (\n"
     ]
    }
   ],
   "source": [
    "import numpy as np\n",
    "import pandas as pd\n",
    "import warnings\n",
    "warnings.filterwarnings('ignore')#we use this to ignore the warnings means in the output warnings should not appear"
   ]
  },
  {
   "cell_type": "code",
   "execution_count": 2,
   "id": "05dc62f6",
   "metadata": {},
   "outputs": [
    {
     "data": {
      "text/html": [
       "<div>\n",
       "<style scoped>\n",
       "    .dataframe tbody tr th:only-of-type {\n",
       "        vertical-align: middle;\n",
       "    }\n",
       "\n",
       "    .dataframe tbody tr th {\n",
       "        vertical-align: top;\n",
       "    }\n",
       "\n",
       "    .dataframe thead th {\n",
       "        text-align: right;\n",
       "    }\n",
       "</style>\n",
       "<table border=\"1\" class=\"dataframe\">\n",
       "  <thead>\n",
       "    <tr style=\"text-align: right;\">\n",
       "      <th></th>\n",
       "      <th>YearsExperience</th>\n",
       "      <th>Salary</th>\n",
       "    </tr>\n",
       "  </thead>\n",
       "  <tbody>\n",
       "    <tr>\n",
       "      <th>0</th>\n",
       "      <td>1.1</td>\n",
       "      <td>39343</td>\n",
       "    </tr>\n",
       "    <tr>\n",
       "      <th>1</th>\n",
       "      <td>1.3</td>\n",
       "      <td>46205</td>\n",
       "    </tr>\n",
       "    <tr>\n",
       "      <th>2</th>\n",
       "      <td>1.5</td>\n",
       "      <td>37731</td>\n",
       "    </tr>\n",
       "    <tr>\n",
       "      <th>3</th>\n",
       "      <td>2.0</td>\n",
       "      <td>43525</td>\n",
       "    </tr>\n",
       "    <tr>\n",
       "      <th>4</th>\n",
       "      <td>2.2</td>\n",
       "      <td>39891</td>\n",
       "    </tr>\n",
       "    <tr>\n",
       "      <th>5</th>\n",
       "      <td>2.9</td>\n",
       "      <td>56642</td>\n",
       "    </tr>\n",
       "    <tr>\n",
       "      <th>6</th>\n",
       "      <td>3.0</td>\n",
       "      <td>60150</td>\n",
       "    </tr>\n",
       "    <tr>\n",
       "      <th>7</th>\n",
       "      <td>3.2</td>\n",
       "      <td>54445</td>\n",
       "    </tr>\n",
       "    <tr>\n",
       "      <th>8</th>\n",
       "      <td>3.2</td>\n",
       "      <td>64445</td>\n",
       "    </tr>\n",
       "    <tr>\n",
       "      <th>9</th>\n",
       "      <td>3.7</td>\n",
       "      <td>57189</td>\n",
       "    </tr>\n",
       "    <tr>\n",
       "      <th>10</th>\n",
       "      <td>3.9</td>\n",
       "      <td>63218</td>\n",
       "    </tr>\n",
       "    <tr>\n",
       "      <th>11</th>\n",
       "      <td>4.0</td>\n",
       "      <td>55794</td>\n",
       "    </tr>\n",
       "    <tr>\n",
       "      <th>12</th>\n",
       "      <td>4.0</td>\n",
       "      <td>56957</td>\n",
       "    </tr>\n",
       "    <tr>\n",
       "      <th>13</th>\n",
       "      <td>4.1</td>\n",
       "      <td>57081</td>\n",
       "    </tr>\n",
       "    <tr>\n",
       "      <th>14</th>\n",
       "      <td>4.5</td>\n",
       "      <td>61111</td>\n",
       "    </tr>\n",
       "    <tr>\n",
       "      <th>15</th>\n",
       "      <td>4.9</td>\n",
       "      <td>67938</td>\n",
       "    </tr>\n",
       "    <tr>\n",
       "      <th>16</th>\n",
       "      <td>5.1</td>\n",
       "      <td>66029</td>\n",
       "    </tr>\n",
       "    <tr>\n",
       "      <th>17</th>\n",
       "      <td>5.3</td>\n",
       "      <td>83088</td>\n",
       "    </tr>\n",
       "    <tr>\n",
       "      <th>18</th>\n",
       "      <td>5.9</td>\n",
       "      <td>81363</td>\n",
       "    </tr>\n",
       "    <tr>\n",
       "      <th>19</th>\n",
       "      <td>6.0</td>\n",
       "      <td>93940</td>\n",
       "    </tr>\n",
       "    <tr>\n",
       "      <th>20</th>\n",
       "      <td>6.8</td>\n",
       "      <td>91738</td>\n",
       "    </tr>\n",
       "    <tr>\n",
       "      <th>21</th>\n",
       "      <td>7.1</td>\n",
       "      <td>98273</td>\n",
       "    </tr>\n",
       "    <tr>\n",
       "      <th>22</th>\n",
       "      <td>7.9</td>\n",
       "      <td>101302</td>\n",
       "    </tr>\n",
       "    <tr>\n",
       "      <th>23</th>\n",
       "      <td>8.2</td>\n",
       "      <td>113812</td>\n",
       "    </tr>\n",
       "    <tr>\n",
       "      <th>24</th>\n",
       "      <td>8.7</td>\n",
       "      <td>109431</td>\n",
       "    </tr>\n",
       "    <tr>\n",
       "      <th>25</th>\n",
       "      <td>9.0</td>\n",
       "      <td>105582</td>\n",
       "    </tr>\n",
       "    <tr>\n",
       "      <th>26</th>\n",
       "      <td>9.5</td>\n",
       "      <td>116969</td>\n",
       "    </tr>\n",
       "    <tr>\n",
       "      <th>27</th>\n",
       "      <td>9.6</td>\n",
       "      <td>112635</td>\n",
       "    </tr>\n",
       "    <tr>\n",
       "      <th>28</th>\n",
       "      <td>10.3</td>\n",
       "      <td>122391</td>\n",
       "    </tr>\n",
       "    <tr>\n",
       "      <th>29</th>\n",
       "      <td>10.5</td>\n",
       "      <td>121872</td>\n",
       "    </tr>\n",
       "  </tbody>\n",
       "</table>\n",
       "</div>"
      ],
      "text/plain": [
       "    YearsExperience  Salary\n",
       "0               1.1   39343\n",
       "1               1.3   46205\n",
       "2               1.5   37731\n",
       "3               2.0   43525\n",
       "4               2.2   39891\n",
       "5               2.9   56642\n",
       "6               3.0   60150\n",
       "7               3.2   54445\n",
       "8               3.2   64445\n",
       "9               3.7   57189\n",
       "10              3.9   63218\n",
       "11              4.0   55794\n",
       "12              4.0   56957\n",
       "13              4.1   57081\n",
       "14              4.5   61111\n",
       "15              4.9   67938\n",
       "16              5.1   66029\n",
       "17              5.3   83088\n",
       "18              5.9   81363\n",
       "19              6.0   93940\n",
       "20              6.8   91738\n",
       "21              7.1   98273\n",
       "22              7.9  101302\n",
       "23              8.2  113812\n",
       "24              8.7  109431\n",
       "25              9.0  105582\n",
       "26              9.5  116969\n",
       "27              9.6  112635\n",
       "28             10.3  122391\n",
       "29             10.5  121872"
      ]
     },
     "execution_count": 2,
     "metadata": {},
     "output_type": "execute_result"
    }
   ],
   "source": [
    "df=pd.read_csv(r\"C:\\Users\\champ\\Downloads\\Salary_Data.csv\")#this is to import the dataset.\n",
    "#The dataset is a csv file.df is the name given to the dataset\n",
    "df#this is written to display the dataset"
   ]
  },
  {
   "cell_type": "code",
   "execution_count": 3,
   "id": "955ee591",
   "metadata": {},
   "outputs": [
    {
     "name": "stdout",
     "output_type": "stream",
     "text": [
      "<class 'pandas.core.frame.DataFrame'>\n",
      "RangeIndex: 30 entries, 0 to 29\n",
      "Data columns (total 2 columns):\n",
      " #   Column           Non-Null Count  Dtype  \n",
      "---  ------           --------------  -----  \n",
      " 0   YearsExperience  30 non-null     float64\n",
      " 1   Salary           30 non-null     int64  \n",
      "dtypes: float64(1), int64(1)\n",
      "memory usage: 608.0 bytes\n"
     ]
    }
   ],
   "source": [
    "df.info()#It gives the summary of the dataframe and it tells how many non null values are there in each column ,what \n",
    "#is the data type of each coloumn,how many columns are there in the dataset\n",
    "#Here we cans ee that in our dataset there are 2 coloumns where 1 coloumn has object float\n",
    "#1 coloumn has int data type"
   ]
  },
  {
   "cell_type": "code",
   "execution_count": 4,
   "id": "dad4c41d",
   "metadata": {},
   "outputs": [
    {
     "data": {
      "text/html": [
       "<div>\n",
       "<style scoped>\n",
       "    .dataframe tbody tr th:only-of-type {\n",
       "        vertical-align: middle;\n",
       "    }\n",
       "\n",
       "    .dataframe tbody tr th {\n",
       "        vertical-align: top;\n",
       "    }\n",
       "\n",
       "    .dataframe thead th {\n",
       "        text-align: right;\n",
       "    }\n",
       "</style>\n",
       "<table border=\"1\" class=\"dataframe\">\n",
       "  <thead>\n",
       "    <tr style=\"text-align: right;\">\n",
       "      <th></th>\n",
       "      <th>YearsExperience</th>\n",
       "      <th>Salary</th>\n",
       "    </tr>\n",
       "  </thead>\n",
       "  <tbody>\n",
       "    <tr>\n",
       "      <th>0</th>\n",
       "      <td>1.1</td>\n",
       "      <td>39343</td>\n",
       "    </tr>\n",
       "    <tr>\n",
       "      <th>1</th>\n",
       "      <td>1.3</td>\n",
       "      <td>46205</td>\n",
       "    </tr>\n",
       "    <tr>\n",
       "      <th>2</th>\n",
       "      <td>1.5</td>\n",
       "      <td>37731</td>\n",
       "    </tr>\n",
       "    <tr>\n",
       "      <th>3</th>\n",
       "      <td>2.0</td>\n",
       "      <td>43525</td>\n",
       "    </tr>\n",
       "    <tr>\n",
       "      <th>4</th>\n",
       "      <td>2.2</td>\n",
       "      <td>39891</td>\n",
       "    </tr>\n",
       "  </tbody>\n",
       "</table>\n",
       "</div>"
      ],
      "text/plain": [
       "   YearsExperience  Salary\n",
       "0              1.1   39343\n",
       "1              1.3   46205\n",
       "2              1.5   37731\n",
       "3              2.0   43525\n",
       "4              2.2   39891"
      ]
     },
     "execution_count": 4,
     "metadata": {},
     "output_type": "execute_result"
    }
   ],
   "source": [
    "df.head()#it display the first five rows of the dataset.Its default value is 5"
   ]
  },
  {
   "cell_type": "code",
   "execution_count": 5,
   "id": "bfce973b",
   "metadata": {},
   "outputs": [
    {
     "data": {
      "text/plain": [
       "(30, 2)"
      ]
     },
     "execution_count": 5,
     "metadata": {},
     "output_type": "execute_result"
    }
   ],
   "source": [
    "df.shape#it tells the number of rows and columns in the dataset so here are 30 rows and 2 columns"
   ]
  },
  {
   "cell_type": "code",
   "execution_count": 6,
   "id": "e2ee0480",
   "metadata": {},
   "outputs": [
    {
     "data": {
      "text/plain": [
       "YearsExperience    0\n",
       "Salary             0\n",
       "dtype: int64"
      ]
     },
     "execution_count": 6,
     "metadata": {},
     "output_type": "execute_result"
    }
   ],
   "source": [
    "df.isnull().sum()#This displays the number of null values in each column"
   ]
  },
  {
   "cell_type": "code",
   "execution_count": 7,
   "id": "084fd736",
   "metadata": {},
   "outputs": [
    {
     "data": {
      "text/html": [
       "<div>\n",
       "<style scoped>\n",
       "    .dataframe tbody tr th:only-of-type {\n",
       "        vertical-align: middle;\n",
       "    }\n",
       "\n",
       "    .dataframe tbody tr th {\n",
       "        vertical-align: top;\n",
       "    }\n",
       "\n",
       "    .dataframe thead th {\n",
       "        text-align: right;\n",
       "    }\n",
       "</style>\n",
       "<table border=\"1\" class=\"dataframe\">\n",
       "  <thead>\n",
       "    <tr style=\"text-align: right;\">\n",
       "      <th></th>\n",
       "      <th>YearsExperience</th>\n",
       "      <th>Salary</th>\n",
       "    </tr>\n",
       "  </thead>\n",
       "  <tbody>\n",
       "    <tr>\n",
       "      <th>count</th>\n",
       "      <td>30.000000</td>\n",
       "      <td>30.000000</td>\n",
       "    </tr>\n",
       "    <tr>\n",
       "      <th>mean</th>\n",
       "      <td>5.313333</td>\n",
       "      <td>76003.000000</td>\n",
       "    </tr>\n",
       "    <tr>\n",
       "      <th>std</th>\n",
       "      <td>2.837888</td>\n",
       "      <td>27414.429785</td>\n",
       "    </tr>\n",
       "    <tr>\n",
       "      <th>min</th>\n",
       "      <td>1.100000</td>\n",
       "      <td>37731.000000</td>\n",
       "    </tr>\n",
       "    <tr>\n",
       "      <th>25%</th>\n",
       "      <td>3.200000</td>\n",
       "      <td>56720.750000</td>\n",
       "    </tr>\n",
       "    <tr>\n",
       "      <th>50%</th>\n",
       "      <td>4.700000</td>\n",
       "      <td>65237.000000</td>\n",
       "    </tr>\n",
       "    <tr>\n",
       "      <th>75%</th>\n",
       "      <td>7.700000</td>\n",
       "      <td>100544.750000</td>\n",
       "    </tr>\n",
       "    <tr>\n",
       "      <th>max</th>\n",
       "      <td>10.500000</td>\n",
       "      <td>122391.000000</td>\n",
       "    </tr>\n",
       "  </tbody>\n",
       "</table>\n",
       "</div>"
      ],
      "text/plain": [
       "       YearsExperience         Salary\n",
       "count        30.000000      30.000000\n",
       "mean          5.313333   76003.000000\n",
       "std           2.837888   27414.429785\n",
       "min           1.100000   37731.000000\n",
       "25%           3.200000   56720.750000\n",
       "50%           4.700000   65237.000000\n",
       "75%           7.700000  100544.750000\n",
       "max          10.500000  122391.000000"
      ]
     },
     "execution_count": 7,
     "metadata": {},
     "output_type": "execute_result"
    }
   ],
   "source": [
    "df.describe()#it gives the statistical information of the numeric columns of dataset"
   ]
  },
  {
   "cell_type": "code",
   "execution_count": 8,
   "id": "358604c8",
   "metadata": {},
   "outputs": [],
   "source": [
    "x=df[[\"YearsExperience\"]]#Input for the model\n",
    "y=df[[\"Salary\"]]#Output for the model"
   ]
  },
  {
   "cell_type": "code",
   "execution_count": 9,
   "id": "c6c96a80",
   "metadata": {},
   "outputs": [],
   "source": [
    "from sklearn.model_selection import train_test_split#Here we are importing train_test_split from sci-kit learn\n",
    "xtrain, xtest, ytrain, ytest = train_test_split(x, y, test_size=0.2, random_state=100)#We are dividing the values of the \n",
    "#YearsExpirence  which is inputs(X) for the model and Salary  which is output for the model(Y)\n",
    "#So we are dividing their values into training and testing 80% of data is training\n",
    "#test_size=0.2 denotes 20% of data wil be testing dataset\n",
    "#random state ensures that whenever we run the program every time the same values of the data are taken for training \n",
    "#and testing means suppose we have 100 records in our data out of which we are using 80  for training and 20 for testing\n",
    "#so every time the same 80 values will be in training and same 20 values will be in testing means not a single record of \n",
    "#training data will go in the testing data and not single value of testing data will come in training data means there will\n",
    "#be no shuffling of records the same data will be used for training and testing every time we run the program this is \n",
    "#the use of random state\n",
    "\n",
    "#In random_state=42  42 is just a normal number there is no role of zero we have to just write it when we are using \n",
    "#random_state  we can use any other number other than zero as well like 1,4,10 etc.42 is the most common number you see\n",
    "#in programs"
   ]
  },
  {
   "cell_type": "code",
   "execution_count": 10,
   "id": "e50b246e",
   "metadata": {},
   "outputs": [],
   "source": [
    "from sklearn.linear_model import LinearRegression#we are importing Linear regression from sci-kit learn\n",
    "model = LinearRegression()#we created object of Linear Regression\n",
    "\n",
    "#Linear Regression is supervised machine learning algorithm.There are three types of linear regression which are \n",
    "#Simple Linear Regression,Multiple Linear Regression and Polynomial Regression. \n",
    "#In Simple Linear Regression where there is only one Independent Variable(X) and only one Dependent Variable(Y).\n",
    "#Like for example you are studying in your college and we have to predict the package of Placement based on the CGPA.\n",
    "#So in dataset there are two coloumns which are “cgpa” and “package”.cgpa is independent variable/attribute/coloumn/feature \n",
    "#(X) and package is dependent variable/attribute/coloumn/feature (Y) If there are more than one input/independent \n",
    "#variables(X) in the dataset then it is multiple Linear Regression. \n",
    "\n",
    "#In Linear Regression the data is linear/sort of linear 99.99%.Linear means increasing values.\n",
    "#We plot a “Best Fit Line” which passes close to all data points in the data.\n",
    "#The Best Fit line passes closely to every data point "
   ]
  },
  {
   "cell_type": "code",
   "execution_count": 11,
   "id": "c2c0bc24",
   "metadata": {},
   "outputs": [
    {
     "data": {
      "text/plain": [
       "LinearRegression()"
      ]
     },
     "execution_count": 11,
     "metadata": {},
     "output_type": "execute_result"
    }
   ],
   "source": [
    "model.fit(xtrain, ytrain)#it teaches the Linear regression model using the training dataset means here we have the inputs\n",
    "#in xtrain and we have outputs also already defit for the inputs in ytrain now the model learns this data so that it \n",
    "#can predict values when any unseen/new data comes to predict"
   ]
  },
  {
   "cell_type": "code",
   "execution_count": 12,
   "id": "09239f20",
   "metadata": {},
   "outputs": [],
   "source": [
    "y_pred = model.predict(xtest)#it tells the model to predict the output for the input(xtest).We are testing the model here\n",
    "#after training"
   ]
  },
  {
   "cell_type": "code",
   "execution_count": 14,
   "id": "c6b8a228",
   "metadata": {},
   "outputs": [
    {
     "data": {
      "image/png": "[encoded data removed]",
      "text/plain": [
       "<Figure size 640x480 with 1 Axes>"
      ]
     },
     "metadata": {},
     "output_type": "display_data"
    }
   ],
   "source": [
    "import matplotlib.pyplot as plt#used to plot basic graphs/plots\n",
    "plt.scatter(xtrain,ytrain,color='red',s=100,label='Actual Data')#Representing Actual Data with red\n",
    "#s represents the size of the dot we want the dot to be seen clearly so wet its sixe as 100\n",
    "plt.scatter(xtrain,model.predict(xtrain),color='green',s=100,label='Predicted Data')#Representing predicted data with green\n",
    "plt.plot(xtrain,model.predict(xtrain),color='orange',label='Best Fit Line')#Drawing best fit line\n",
    "plt.legend()#it draws a legend on the plot\n",
    "plt.show()#it is used to display plot"
   ]
  },
  {
   "cell_type": "code",
   "execution_count": 15,
   "id": "5cc71cc3",
   "metadata": {},
   "outputs": [
    {
     "data": {
      "image/png": "[encoded data removed]",
      "text/plain": [
       "<Figure size 640x480 with 1 Axes>"
      ]
     },
     "metadata": {},
     "output_type": "display_data"
    }
   ],
   "source": [
    "#Plotting best fit line for testing samples\n",
    "plt.scatter(xtest,ytest,color='red',s=100,label='Actual Data')#Representing Actual Data with red\n",
    "#s represents the size of the dot we want the dot to be seen clearly so wet its sixe as 100\n",
    "plt.scatter(xtest,model.predict(xtest),color='green',s=100,label='Predicted Data')#Representing predicted data with green\n",
    "plt.plot(xtest,model.predict(xtest),color='orange',label='Best Fit Line')#Drawing best fit line\n",
    "plt.legend()#it draws a legend on the plot\n",
    "plt.show()#it is used to display plot"
   ]
  },
  {
   "cell_type": "code",
   "execution_count": 16,
   "id": "ce5b5306",
   "metadata": {},
   "outputs": [
    {
     "name": "stdout",
     "output_type": "stream",
     "text": [
      "[[9361.11639032]] [26819.0651187]\n"
     ]
    }
   ],
   "source": [
    "m=model.coef_\n",
    "c=model.intercept_\n",
    "print(m,c)#Here we have used multiple linear regression whose equation is y=m1x1+m2x2+c as we have more than one input \n",
    "#there are two inputs so there are two slope(m) values which are 4.9091342 and -0.61642437 and intercept(c) is\n",
    "#-0.5335866111473351"
   ]
  },
  {
   "cell_type": "code",
   "execution_count": 17,
   "id": "db46a398",
   "metadata": {},
   "outputs": [],
   "source": [
    "from sklearn.metrics import mean_squared_error, mean_absolute_error, r2_score #sklearn.etric is used to import metrics\n",
    "#which determine the accuracy of our model\n",
    "r2 = r2_score(ytest, y_pred)#We are passing the y_test value means training data value of output and its \n",
    "#its predicted value y_pred to calculate r2 socre"
   ]
  },
  {
   "cell_type": "code",
   "execution_count": 19,
   "id": "785274af",
   "metadata": {},
   "outputs": [
    {
     "name": "stdout",
     "output_type": "stream",
     "text": [
      "R2 Score            : 0.9720725422361338\n"
     ]
    }
   ],
   "source": [
    "print(\"R2 Score            :\",r2)#printing r2 score\n",
    "\n",
    "#We know that error=actual value(y_test)-my model predicted value(y_pred) \n",
    "\n",
    "#R2 score tells that how close are the data points from the best fit line\n",
    "#The formula is (y-y bar)^2/(y_predicted - y bar)^2 where y is actual values means y_test,y bar is the mean of y_test(means\n",
    "#we will do summation of all y values  and divide by total number of values to get the mean(y bar)) and y predicted\n",
    "#is the predicted values(y_pred).It gives result between 0 and 1 \n",
    "\n",
    "#Here we see that R2 score is 0.9720 means 97.20% which is very good "
   ]
  },
  {
   "cell_type": "code",
   "execution_count": 20,
   "id": "3d6286ed",
   "metadata": {},
   "outputs": [
    {
     "name": "stdout",
     "output_type": "stream",
     "text": [
      "Predicted value is: [[167235.81097353]]\n"
     ]
    }
   ],
   "source": [
    "features = [[15]]  #Taking input\n",
    "prediction = model.predict(features)  # Model gives the output for that input\n",
    "print(\"Predicted value is:\", prediction)\n"
   ]
  }
 ],
 "metadata": {
  "kernelspec": {
   "display_name": "Python 3 (ipykernel)",
   "language": "python",
   "name": "python3"
  },
  "language_info": {
   "codemirror_mode": {
    "name": "ipython",
    "version": 3
   },
   "file_extension": ".py",
   "mimetype": "text/x-python",
   "name": "python",
   "nbconvert_exporter": "python",
   "pygments_lexer": "ipython3",
   "version": "3.9.13"
  }
 },
 "nbformat": 4,
 "nbformat_minor": 5
}
