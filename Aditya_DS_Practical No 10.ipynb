{
 "cells": [
  {
   "cell_type": "markdown",
   "id": "7011ff45",
   "metadata": {},
   "source": [
    "# Data Analytics II\n",
    "                                                 -By Aditya Nikam(TE AI & DS)\n",
    "                                                 \n",
    "1.Implement logistic regression using Python/R to perform classification on Social_Network_Ads.csv dataset.\n",
    "\n",
    "2.Find the logistic regression for student if they study 25 and 42 hours\n",
    "\n",
    "3.Compute Confusion matrix to find TP, FP, TN, FN, Accuracy, Error rate, Precision, Recall on the given dataset."
   ]
  },
  {
   "cell_type": "code",
   "execution_count": 1,
   "id": "dc850a76",
   "metadata": {},
   "outputs": [
    {
     "name": "stderr",
     "output_type": "stream",
     "text": [
      "C:\\Users\\champ\\PycharmProjects\\Tutorials\\a\\lib\\site-packages\\pandas\\core\\computation\\expressions.py:21: UserWarning: Pandas requires version '2.8.4' or newer of 'numexpr' (version '2.8.3' currently installed).\n",
      "  from pandas.core.computation.check import NUMEXPR_INSTALLED\n",
      "C:\\Users\\champ\\PycharmProjects\\Tutorials\\a\\lib\\site-packages\\pandas\\core\\arrays\\masked.py:60: UserWarning: Pandas requires version '1.3.6' or newer of 'bottleneck' (version '1.3.5' currently installed).\n",
      "  from pandas.core import (\n"
     ]
    }
   ],
   "source": [
    "import numpy as np\n",
    "import pandas as pd\n",
    "import warnings\n",
    "warnings.filterwarnings('ignore')#we use this to ignore the warnings means in the output warnings should not appear"
   ]
  },
  {
   "cell_type": "code",
   "execution_count": 2,
   "id": "d65396ee",
   "metadata": {},
   "outputs": [],
   "source": [
    "data = {\n",
    "    'STUDY HOURS': [29, 15, 33, 48, 39],\n",
    "    'PASS/FAIL': [0, 0, 1, 1, 1]\n",
    "}\n",
    "\n",
    "# Convert the dictionary into a DataFrame (table)\n",
    "df = pd.DataFrame(data)#Here I have created a dataset which was given in problem statement I have not imported any dataset \n",
    "#here"
   ]
  },
  {
   "cell_type": "code",
   "execution_count": 3,
   "id": "c2364cf2",
   "metadata": {},
   "outputs": [
    {
     "data": {
      "text/html": [
       "<div>\n",
       "<style scoped>\n",
       "    .dataframe tbody tr th:only-of-type {\n",
       "        vertical-align: middle;\n",
       "    }\n",
       "\n",
       "    .dataframe tbody tr th {\n",
       "        vertical-align: top;\n",
       "    }\n",
       "\n",
       "    .dataframe thead th {\n",
       "        text-align: right;\n",
       "    }\n",
       "</style>\n",
       "<table border=\"1\" class=\"dataframe\">\n",
       "  <thead>\n",
       "    <tr style=\"text-align: right;\">\n",
       "      <th></th>\n",
       "      <th>STUDY HOURS</th>\n",
       "      <th>PASS/FAIL</th>\n",
       "    </tr>\n",
       "  </thead>\n",
       "  <tbody>\n",
       "    <tr>\n",
       "      <th>0</th>\n",
       "      <td>29</td>\n",
       "      <td>0</td>\n",
       "    </tr>\n",
       "    <tr>\n",
       "      <th>1</th>\n",
       "      <td>15</td>\n",
       "      <td>0</td>\n",
       "    </tr>\n",
       "    <tr>\n",
       "      <th>2</th>\n",
       "      <td>33</td>\n",
       "      <td>1</td>\n",
       "    </tr>\n",
       "    <tr>\n",
       "      <th>3</th>\n",
       "      <td>48</td>\n",
       "      <td>1</td>\n",
       "    </tr>\n",
       "    <tr>\n",
       "      <th>4</th>\n",
       "      <td>39</td>\n",
       "      <td>1</td>\n",
       "    </tr>\n",
       "  </tbody>\n",
       "</table>\n",
       "</div>"
      ],
      "text/plain": [
       "   STUDY HOURS  PASS/FAIL\n",
       "0           29          0\n",
       "1           15          0\n",
       "2           33          1\n",
       "3           48          1\n",
       "4           39          1"
      ]
     },
     "execution_count": 3,
     "metadata": {},
     "output_type": "execute_result"
    }
   ],
   "source": [
    "df#printing the dataset "
   ]
  },
  {
   "cell_type": "code",
   "execution_count": 4,
   "id": "ea3aa2dd",
   "metadata": {},
   "outputs": [
    {
     "data": {
      "text/html": [
       "<div>\n",
       "<style scoped>\n",
       "    .dataframe tbody tr th:only-of-type {\n",
       "        vertical-align: middle;\n",
       "    }\n",
       "\n",
       "    .dataframe tbody tr th {\n",
       "        vertical-align: top;\n",
       "    }\n",
       "\n",
       "    .dataframe thead th {\n",
       "        text-align: right;\n",
       "    }\n",
       "</style>\n",
       "<table border=\"1\" class=\"dataframe\">\n",
       "  <thead>\n",
       "    <tr style=\"text-align: right;\">\n",
       "      <th></th>\n",
       "      <th>STUDY HOURS</th>\n",
       "      <th>PASS/FAIL</th>\n",
       "    </tr>\n",
       "  </thead>\n",
       "  <tbody>\n",
       "    <tr>\n",
       "      <th>0</th>\n",
       "      <td>29</td>\n",
       "      <td>0</td>\n",
       "    </tr>\n",
       "    <tr>\n",
       "      <th>1</th>\n",
       "      <td>15</td>\n",
       "      <td>0</td>\n",
       "    </tr>\n",
       "    <tr>\n",
       "      <th>2</th>\n",
       "      <td>33</td>\n",
       "      <td>1</td>\n",
       "    </tr>\n",
       "    <tr>\n",
       "      <th>3</th>\n",
       "      <td>48</td>\n",
       "      <td>1</td>\n",
       "    </tr>\n",
       "    <tr>\n",
       "      <th>4</th>\n",
       "      <td>39</td>\n",
       "      <td>1</td>\n",
       "    </tr>\n",
       "  </tbody>\n",
       "</table>\n",
       "</div>"
      ],
      "text/plain": [
       "   STUDY HOURS  PASS/FAIL\n",
       "0           29          0\n",
       "1           15          0\n",
       "2           33          1\n",
       "3           48          1\n",
       "4           39          1"
      ]
     },
     "execution_count": 4,
     "metadata": {},
     "output_type": "execute_result"
    }
   ],
   "source": [
    "df.head()#it display the first five rows of the dataset.Its default value is 5"
   ]
  },
  {
   "cell_type": "code",
   "execution_count": 5,
   "id": "e7a9c146",
   "metadata": {},
   "outputs": [
    {
     "data": {
      "text/plain": [
       "(5, 2)"
      ]
     },
     "execution_count": 5,
     "metadata": {},
     "output_type": "execute_result"
    }
   ],
   "source": [
    "df.shape#it tells the number of rows and columns in the dataset so here are 5 rows and 2 columns"
   ]
  },
  {
   "cell_type": "code",
   "execution_count": 6,
   "id": "cb950a97",
   "metadata": {},
   "outputs": [
    {
     "data": {
      "text/plain": [
       "STUDY HOURS    0\n",
       "PASS/FAIL      0\n",
       "dtype: int64"
      ]
     },
     "execution_count": 6,
     "metadata": {},
     "output_type": "execute_result"
    }
   ],
   "source": [
    "df.isnull().sum()#This displays the number of null values in each column"
   ]
  },
  {
   "cell_type": "code",
   "execution_count": 7,
   "id": "9a0f66b8",
   "metadata": {},
   "outputs": [
    {
     "name": "stdout",
     "output_type": "stream",
     "text": [
      "<class 'pandas.core.frame.DataFrame'>\n",
      "RangeIndex: 5 entries, 0 to 4\n",
      "Data columns (total 2 columns):\n",
      " #   Column       Non-Null Count  Dtype\n",
      "---  ------       --------------  -----\n",
      " 0   STUDY HOURS  5 non-null      int64\n",
      " 1   PASS/FAIL    5 non-null      int64\n",
      "dtypes: int64(2)\n",
      "memory usage: 208.0 bytes\n"
     ]
    }
   ],
   "source": [
    "df.info()#It gives the summary of the dataframe and it tells how many non null values are there in each column ,what \n",
    "#is the data type of each coloumn,how many columns are there in the dataset\n",
    "#Here we can see that we have 2 columns and both have int data type"
   ]
  },
  {
   "cell_type": "code",
   "execution_count": 8,
   "id": "f75d64c2",
   "metadata": {},
   "outputs": [],
   "source": [
    "x=df[[\"STUDY HOURS\"]]#Input to our model\n",
    "y=df[\"PASS/FAIL\"]#this is the output of our model"
   ]
  },
  {
   "cell_type": "code",
   "execution_count": 9,
   "id": "edd502b7",
   "metadata": {},
   "outputs": [],
   "source": [
    "from sklearn.model_selection import train_test_split#Here we are importing train_test_split from sci-kit learn\n",
    "xtrain, xtest, ytrain, ytest = train_test_split(x, y, test_size=0.2, random_state=42)#We are dividing the values of the \n",
    "#Study Hours which is input(X) for the model and Purchased which is output for the model(Y)\n",
    "#So we are dividing their values into training and testing 80% of data is training\n",
    "#test_size=0.2 denotes 20% of data wil be testing dataset\n",
    "#random state ensures that whenever we run the program every time the same values of the data are taken for training \n",
    "#and testing means suppose we have 100 records in our data out of which we are using 80  for training and 20 for testing\n",
    "#so every time the same 80 values will be in training and same 20 values will be in testing means not a single record of \n",
    "#training data will go in the testing data and not single value of testing data will come in training data means there will\n",
    "#be no shuffling of records the same data will be used for training and testing every time we run the program this is \n",
    "#the use of random state\n",
    "\n",
    "#In random_state=42 42 is just a normal number there is no role of zero we have to just write it when we are using \n",
    "#random_state  we can use any other number other than zero as well like 1,4,10 etc.42 is the most common number you see\n",
    "#in programs"
   ]
  },
  {
   "cell_type": "code",
   "execution_count": 10,
   "id": "6aa900f6",
   "metadata": {},
   "outputs": [],
   "source": [
    "from sklearn.linear_model import LogisticRegression#we are importing Logistic regression from sci-kit learn\n",
    "model = LogisticRegression()#we created object of Logistic Regression\n",
    "\n",
    "#Logistic Regression is used for classification problems.In Linear regression we predicted numerical value but \n",
    "#Logistic Regression is used to predict categorial value like whether the email is spam or not(binary classification as \n",
    "#only two values “spam” or “not spam”),Positive or Negative,Pass or Fail,Yes or No,True or False,will the customer buy \n",
    "#insurance or not etc.In Logistic Regression the Sigmoid Function converts the Input variable(X) between 0 and 1.\n",
    "#The formula of Sigmoid function is  y=1/1+e^-x here y is dependent variable(what we want to predict) and x is Independent\n",
    "#variable and  the graph is of S shape."
   ]
  },
  {
   "cell_type": "code",
   "execution_count": 11,
   "id": "3b2e0eef",
   "metadata": {},
   "outputs": [
    {
     "data": {
      "text/plain": [
       "LogisticRegression()"
      ]
     },
     "execution_count": 11,
     "metadata": {},
     "output_type": "execute_result"
    }
   ],
   "source": [
    "model.fit(xtrain, ytrain)#it teaches the Linear regression model using the training dataset means here we have the inputs\n",
    "#in xtrain and we have outputs also already defit for the inputs in ytrain now the model learns this data so that it \n",
    "#can predict values when any unseen/new data comes to predict"
   ]
  },
  {
   "cell_type": "code",
   "execution_count": 12,
   "id": "8b849682",
   "metadata": {},
   "outputs": [],
   "source": [
    "y_pred = model.predict(xtest)#it tells the model to predict the output for the input(xtest).We are testing the model here\n",
    "#after training"
   ]
  },
  {
   "cell_type": "code",
   "execution_count": 13,
   "id": "1a5cc6f1",
   "metadata": {},
   "outputs": [
    {
     "data": {
      "text/plain": [
       "1.0"
      ]
     },
     "execution_count": 13,
     "metadata": {},
     "output_type": "execute_result"
    }
   ],
   "source": [
    "from sklearn.metrics import accuracy_score #sklearn.metric is used to import metrics\n",
    "score=accuracy_score(ytest,y_pred)#Accuracy score formula is number of correct predictions/total no.of predictions\n",
    "#ytest means the correct outputs and y_predicted means predicted outputs\n",
    "score#We see that our accuracy is 0.7375 means 73.75% so it is not very good nor very bad\n",
    "#To"
   ]
  },
  {
   "cell_type": "code",
   "execution_count": 14,
   "id": "9b2ed2b1",
   "metadata": {},
   "outputs": [
    {
     "name": "stdout",
     "output_type": "stream",
     "text": [
      "Predicted value is: [0]\n"
     ]
    }
   ],
   "source": [
    "features = [[25]]  #Taking input\n",
    "prediction = model.predict(features) # Model gives the output for that input\n",
    "print(\"Predicted value is:\", prediction)#prints the prediction"
   ]
  },
  {
   "cell_type": "code",
   "execution_count": 15,
   "id": "ecc6dc83",
   "metadata": {},
   "outputs": [
    {
     "name": "stdout",
     "output_type": "stream",
     "text": [
      "Predicted value is: [1]\n"
     ]
    }
   ],
   "source": [
    "features = [[42]]  #Taking input\n",
    "prediction = model.predict(features)  # Model gives the output for that input\n",
    "print(\"Predicted value is:\", prediction)#prints the prediction"
   ]
  },
  {
   "cell_type": "code",
   "execution_count": 16,
   "id": "8cf80ba6",
   "metadata": {},
   "outputs": [],
   "source": [
    "#Confusion Matrix is a table that helps you to know how well the model is performing.It divides the predictions in four \n",
    "#types which are True Positive(TP),True Negative(TN),False Positive(FP) & False Negative(FN)\n",
    "\n",
    "#True Positive(TP)means when model predicted answers match to the actual output\n",
    "#Like for Example if a model predicts that student will pass the exam and if the student really passes the exam then its \n",
    "#True Positive\n",
    "\n",
    "##True Negative(TN)also means when model predicted answers match to the actual output\n",
    "#Like for Example if a model predicts that student will fail the exam and if the student fails(actual output) the exam \n",
    "#then its True Negative\n",
    "\n",
    "#False Positive(FP) and False Negative(FN) means when the model predicted answers match to the actual output\n",
    "\n",
    "#Like for Example if a model predicts that student will fail the exam and if the student pass(actual output) the exam \n",
    "#then its False Negative(FN)\n",
    "\n",
    "#If a model predicts that student will pass the exam and if the student fails(actual output) the exam \n",
    "#then its False Positive"
   ]
  },
  {
   "cell_type": "code",
   "execution_count": 25,
   "id": "3c8f4903",
   "metadata": {},
   "outputs": [
    {
     "name": "stdout",
     "output_type": "stream",
     "text": [
      "Confusion Matrix:\n",
      " [[1]]\n"
     ]
    }
   ],
   "source": [
    "from sklearn.metrics import confusion_matrix\n",
    "print(\"Confusion Matrix:\\n\", confusion_matrix(ytest, y_pred))#it creates a confusion matrix of model's predicted answers\n",
    "#(y_pred)and actual answers(ytest)\n",
    "#Here we only see 1 value in confusion matrix because all other values are zero because only one record was in testing\n",
    "#dataset as model was splitted as 80% training data and 20% testing data so 80% of 5 rows is 4 rows so only 1 row is there\n",
    "#for testing and the model predicted that one record value which was in training dataset correctly(means True Positive)"
   ]
  },
  {
   "cell_type": "code",
   "execution_count": 22,
   "id": "6c90706b",
   "metadata": {},
   "outputs": [],
   "source": [
    "TP,FP,FN,TN=confusion_matrix(ytest, y_pred,labels=[0,1]).reshape(-1)#labels=[0,1]tells the confusion matrix that we have \n",
    "#two outputs which is either 0(fail) or 1(pass) so 0 is our negative class and 1 is our positive class\n",
    "#TP,FP,TN,FN=confusion_matrix(ytest, y_pred) creates a matrix of confusion matrix and we convert that matrix into list\n",
    "#using reshape(-1) so we easily access individual elements like TP,FN,FP and TN"
   ]
  },
  {
   "cell_type": "code",
   "execution_count": 24,
   "id": "b945f173",
   "metadata": {},
   "outputs": [
    {
     "name": "stdout",
     "output_type": "stream",
     "text": [
      "TP = 1\n",
      "FP = 0\n",
      "FN = 0\n",
      "TN = 0\n"
     ]
    }
   ],
   "source": [
    "print(\"TP =\",TP)#printing value of TP\n",
    "print(\"FP =\",FP)#printing value of FP\n",
    "print(\"FN =\",TN)#printing value of FN\n",
    "print(\"TN =\",FN)#printing value of TN"
   ]
  },
  {
   "cell_type": "code",
   "execution_count": 20,
   "id": "7ea287fb",
   "metadata": {},
   "outputs": [],
   "source": [
    "accuracy=(TP+TN)/(TP+FP+TN+FN)#formula to calculate accuracy\n",
    "precision=TP/(TP+FP)#formula to calculate precision\n",
    "recall=TP/(TP+FN)#formula to calculate recall\n",
    "f1_Score=(2*precision*recall)/(precision+recall)#formula to calculate f1 score"
   ]
  },
  {
   "cell_type": "code",
   "execution_count": 21,
   "id": "7b8d35cd",
   "metadata": {},
   "outputs": [
    {
     "name": "stdout",
     "output_type": "stream",
     "text": [
      "Accuracy =  1.0\n",
      "Precision =  1.0\n",
      "Recall =  1.0\n",
      "F1 Score =  1.0\n"
     ]
    }
   ],
   "source": [
    "print(\"Accuracy = \",accuracy)#printing accuracy\n",
    "print(\"Precision = \",precision)#printing precision\n",
    "print(\"Recall = \",recall)#printing recall\n",
    "print(\"F1 Score = \",f1_Score)#printing f1 score"
   ]
  },
  {
   "cell_type": "code",
   "execution_count": null,
   "id": "87e7f427",
   "metadata": {},
   "outputs": [],
   "source": []
  }
 ],
 "metadata": {
  "kernelspec": {
   "display_name": "Python 3 (ipykernel)",
   "language": "python",
   "name": "python3"
  },
  "language_info": {
   "codemirror_mode": {
    "name": "ipython",
    "version": 3
   },
   "file_extension": ".py",
   "mimetype": "text/x-python",
   "name": "python",
   "nbconvert_exporter": "python",
   "pygments_lexer": "ipython3",
   "version": "3.9.13"
  }
 },
 "nbformat": 4,
 "nbformat_minor": 5
}
