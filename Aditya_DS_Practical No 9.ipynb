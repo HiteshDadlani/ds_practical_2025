{
 "cells": [
  {
   "cell_type": "markdown",
   "id": "d827a998",
   "metadata": {},
   "source": [
    "# Data Analytics II\n",
    "\n",
    "                                                     -By Aditya Nikam(TE AI & DS)\n",
    "\n",
    "1.Implement logistic regression using Python/R to perform classification on\n",
    "Social_Network_Ads.csv dataset.\n",
    "\n",
    "2.Compute Confusion matrix to find TP, FP, TN, FN, Accuracy, Error rate,\n",
    "Precision, Recall on the given dataset."
   ]
  },
  {
   "cell_type": "code",
   "execution_count": 1,
   "id": "44350087",
   "metadata": {},
   "outputs": [
    {
     "name": "stderr",
     "output_type": "stream",
     "text": [
      "C:\\Users\\champ\\PycharmProjects\\Tutorials\\a\\lib\\site-packages\\pandas\\core\\computation\\expressions.py:21: UserWarning: Pandas requires version '2.8.4' or newer of 'numexpr' (version '2.8.3' currently installed).\n",
      "  from pandas.core.computation.check import NUMEXPR_INSTALLED\n",
      "C:\\Users\\champ\\PycharmProjects\\Tutorials\\a\\lib\\site-packages\\pandas\\core\\arrays\\masked.py:60: UserWarning: Pandas requires version '1.3.6' or newer of 'bottleneck' (version '1.3.5' currently installed).\n",
      "  from pandas.core import (\n"
     ]
    }
   ],
   "source": [
    "import numpy as np\n",
    "import pandas as pd\n",
    "import warnings\n",
    "warnings.filterwarnings('ignore')#we use this to ignore the warnings means in the output warnings should not appear"
   ]
  },
  {
   "cell_type": "code",
   "execution_count": 2,
   "id": "17f18949",
   "metadata": {},
   "outputs": [
    {
     "data": {
      "text/html": [
       "<div>\n",
       "<style scoped>\n",
       "    .dataframe tbody tr th:only-of-type {\n",
       "        vertical-align: middle;\n",
       "    }\n",
       "\n",
       "    .dataframe tbody tr th {\n",
       "        vertical-align: top;\n",
       "    }\n",
       "\n",
       "    .dataframe thead th {\n",
       "        text-align: right;\n",
       "    }\n",
       "</style>\n",
       "<table border=\"1\" class=\"dataframe\">\n",
       "  <thead>\n",
       "    <tr style=\"text-align: right;\">\n",
       "      <th></th>\n",
       "      <th>User ID</th>\n",
       "      <th>Gender</th>\n",
       "      <th>Age</th>\n",
       "      <th>EstimatedSalary</th>\n",
       "      <th>Purchased</th>\n",
       "    </tr>\n",
       "  </thead>\n",
       "  <tbody>\n",
       "    <tr>\n",
       "      <th>0</th>\n",
       "      <td>15624510</td>\n",
       "      <td>Male</td>\n",
       "      <td>19.0</td>\n",
       "      <td>19000.0</td>\n",
       "      <td>0</td>\n",
       "    </tr>\n",
       "    <tr>\n",
       "      <th>1</th>\n",
       "      <td>15810944</td>\n",
       "      <td>Male</td>\n",
       "      <td>35.0</td>\n",
       "      <td>20000.0</td>\n",
       "      <td>0</td>\n",
       "    </tr>\n",
       "    <tr>\n",
       "      <th>2</th>\n",
       "      <td>15668575</td>\n",
       "      <td>Female</td>\n",
       "      <td>26.0</td>\n",
       "      <td>43000.0</td>\n",
       "      <td>0</td>\n",
       "    </tr>\n",
       "    <tr>\n",
       "      <th>3</th>\n",
       "      <td>15603246</td>\n",
       "      <td>Female</td>\n",
       "      <td>27.0</td>\n",
       "      <td>57000.0</td>\n",
       "      <td>0</td>\n",
       "    </tr>\n",
       "    <tr>\n",
       "      <th>4</th>\n",
       "      <td>15804002</td>\n",
       "      <td>Male</td>\n",
       "      <td>19.0</td>\n",
       "      <td>76000.0</td>\n",
       "      <td>0</td>\n",
       "    </tr>\n",
       "    <tr>\n",
       "      <th>...</th>\n",
       "      <td>...</td>\n",
       "      <td>...</td>\n",
       "      <td>...</td>\n",
       "      <td>...</td>\n",
       "      <td>...</td>\n",
       "    </tr>\n",
       "    <tr>\n",
       "      <th>395</th>\n",
       "      <td>15691863</td>\n",
       "      <td>Female</td>\n",
       "      <td>46.0</td>\n",
       "      <td>41000.0</td>\n",
       "      <td>1</td>\n",
       "    </tr>\n",
       "    <tr>\n",
       "      <th>396</th>\n",
       "      <td>15706071</td>\n",
       "      <td>Male</td>\n",
       "      <td>51.0</td>\n",
       "      <td>23000.0</td>\n",
       "      <td>1</td>\n",
       "    </tr>\n",
       "    <tr>\n",
       "      <th>397</th>\n",
       "      <td>15654296</td>\n",
       "      <td>Female</td>\n",
       "      <td>50.0</td>\n",
       "      <td>20000.0</td>\n",
       "      <td>1</td>\n",
       "    </tr>\n",
       "    <tr>\n",
       "      <th>398</th>\n",
       "      <td>15755018</td>\n",
       "      <td>Male</td>\n",
       "      <td>36.0</td>\n",
       "      <td>33000.0</td>\n",
       "      <td>0</td>\n",
       "    </tr>\n",
       "    <tr>\n",
       "      <th>399</th>\n",
       "      <td>15594041</td>\n",
       "      <td>Female</td>\n",
       "      <td>49.0</td>\n",
       "      <td>36000.0</td>\n",
       "      <td>1</td>\n",
       "    </tr>\n",
       "  </tbody>\n",
       "</table>\n",
       "<p>400 rows × 5 columns</p>\n",
       "</div>"
      ],
      "text/plain": [
       "      User ID  Gender   Age  EstimatedSalary  Purchased\n",
       "0    15624510    Male  19.0          19000.0          0\n",
       "1    15810944    Male  35.0          20000.0          0\n",
       "2    15668575  Female  26.0          43000.0          0\n",
       "3    15603246  Female  27.0          57000.0          0\n",
       "4    15804002    Male  19.0          76000.0          0\n",
       "..        ...     ...   ...              ...        ...\n",
       "395  15691863  Female  46.0          41000.0          1\n",
       "396  15706071    Male  51.0          23000.0          1\n",
       "397  15654296  Female  50.0          20000.0          1\n",
       "398  15755018    Male  36.0          33000.0          0\n",
       "399  15594041  Female  49.0          36000.0          1\n",
       "\n",
       "[400 rows x 5 columns]"
      ]
     },
     "execution_count": 2,
     "metadata": {},
     "output_type": "execute_result"
    }
   ],
   "source": [
    "df=pd.read_csv(r\"C:\\Users\\champ\\Downloads\\Social_Network_Ads.csv\")#this is to import the dataset.\n",
    "#The dataset is a csv file.df is the name given to the dataset\n",
    "df#this is written to display the dataset"
   ]
  },
  {
   "cell_type": "code",
   "execution_count": 3,
   "id": "9512e289",
   "metadata": {},
   "outputs": [
    {
     "data": {
      "text/html": [
       "<div>\n",
       "<style scoped>\n",
       "    .dataframe tbody tr th:only-of-type {\n",
       "        vertical-align: middle;\n",
       "    }\n",
       "\n",
       "    .dataframe tbody tr th {\n",
       "        vertical-align: top;\n",
       "    }\n",
       "\n",
       "    .dataframe thead th {\n",
       "        text-align: right;\n",
       "    }\n",
       "</style>\n",
       "<table border=\"1\" class=\"dataframe\">\n",
       "  <thead>\n",
       "    <tr style=\"text-align: right;\">\n",
       "      <th></th>\n",
       "      <th>User ID</th>\n",
       "      <th>Gender</th>\n",
       "      <th>Age</th>\n",
       "      <th>EstimatedSalary</th>\n",
       "      <th>Purchased</th>\n",
       "    </tr>\n",
       "  </thead>\n",
       "  <tbody>\n",
       "    <tr>\n",
       "      <th>0</th>\n",
       "      <td>15624510</td>\n",
       "      <td>Male</td>\n",
       "      <td>19.0</td>\n",
       "      <td>19000.0</td>\n",
       "      <td>0</td>\n",
       "    </tr>\n",
       "    <tr>\n",
       "      <th>1</th>\n",
       "      <td>15810944</td>\n",
       "      <td>Male</td>\n",
       "      <td>35.0</td>\n",
       "      <td>20000.0</td>\n",
       "      <td>0</td>\n",
       "    </tr>\n",
       "    <tr>\n",
       "      <th>2</th>\n",
       "      <td>15668575</td>\n",
       "      <td>Female</td>\n",
       "      <td>26.0</td>\n",
       "      <td>43000.0</td>\n",
       "      <td>0</td>\n",
       "    </tr>\n",
       "    <tr>\n",
       "      <th>3</th>\n",
       "      <td>15603246</td>\n",
       "      <td>Female</td>\n",
       "      <td>27.0</td>\n",
       "      <td>57000.0</td>\n",
       "      <td>0</td>\n",
       "    </tr>\n",
       "    <tr>\n",
       "      <th>4</th>\n",
       "      <td>15804002</td>\n",
       "      <td>Male</td>\n",
       "      <td>19.0</td>\n",
       "      <td>76000.0</td>\n",
       "      <td>0</td>\n",
       "    </tr>\n",
       "  </tbody>\n",
       "</table>\n",
       "</div>"
      ],
      "text/plain": [
       "    User ID  Gender   Age  EstimatedSalary  Purchased\n",
       "0  15624510    Male  19.0          19000.0          0\n",
       "1  15810944    Male  35.0          20000.0          0\n",
       "2  15668575  Female  26.0          43000.0          0\n",
       "3  15603246  Female  27.0          57000.0          0\n",
       "4  15804002    Male  19.0          76000.0          0"
      ]
     },
     "execution_count": 3,
     "metadata": {},
     "output_type": "execute_result"
    }
   ],
   "source": [
    "df.head()#it display the first five rows of the dataset.Its default value is 5"
   ]
  },
  {
   "cell_type": "code",
   "execution_count": 4,
   "id": "dfe4b303",
   "metadata": {},
   "outputs": [
    {
     "data": {
      "text/plain": [
       "(400, 5)"
      ]
     },
     "execution_count": 4,
     "metadata": {},
     "output_type": "execute_result"
    }
   ],
   "source": [
    "df.shape#it tells the number of rows and columns in the dataset so here are 400 rows and 5 columns"
   ]
  },
  {
   "cell_type": "code",
   "execution_count": 5,
   "id": "cd6dc7fc",
   "metadata": {},
   "outputs": [
    {
     "data": {
      "text/plain": [
       "User ID            0\n",
       "Gender             0\n",
       "Age                0\n",
       "EstimatedSalary    0\n",
       "Purchased          0\n",
       "dtype: int64"
      ]
     },
     "execution_count": 5,
     "metadata": {},
     "output_type": "execute_result"
    }
   ],
   "source": [
    "df.isnull().sum()#This displays the number of null values in each column"
   ]
  },
  {
   "cell_type": "code",
   "execution_count": 6,
   "id": "ca37c4f8",
   "metadata": {},
   "outputs": [
    {
     "name": "stdout",
     "output_type": "stream",
     "text": [
      "<class 'pandas.core.frame.DataFrame'>\n",
      "RangeIndex: 400 entries, 0 to 399\n",
      "Data columns (total 5 columns):\n",
      " #   Column           Non-Null Count  Dtype  \n",
      "---  ------           --------------  -----  \n",
      " 0   User ID          400 non-null    int64  \n",
      " 1   Gender           400 non-null    object \n",
      " 2   Age              400 non-null    float64\n",
      " 3   EstimatedSalary  400 non-null    float64\n",
      " 4   Purchased        400 non-null    int64  \n",
      "dtypes: float64(2), int64(2), object(1)\n",
      "memory usage: 15.8+ KB\n"
     ]
    }
   ],
   "source": [
    "df.info()#It gives the summary of the dataframe and it tells how many non null values are there in each column ,what \n",
    "#is the data type of each coloumn,how many columns are there in the dataset\n",
    "#Here we cans ee that in our dataset there are 5 coloumns where 2 coloumns have int Datatype\n",
    "#2 coloumns have float data type and 1 column has object data type"
   ]
  },
  {
   "cell_type": "code",
   "execution_count": 7,
   "id": "afd067d0",
   "metadata": {},
   "outputs": [
    {
     "data": {
      "text/plain": [
       "array([0, 1], dtype=int64)"
      ]
     },
     "execution_count": 7,
     "metadata": {},
     "output_type": "execute_result"
    }
   ],
   "source": [
    "df['Purchased'].unique()# it tells that there are two types of values only in Purchased column which are 0 and 1\n",
    "#1 means purchased and 0 means not purchased"
   ]
  },
  {
   "cell_type": "code",
   "execution_count": 8,
   "id": "dddda428",
   "metadata": {},
   "outputs": [
    {
     "data": {
      "text/html": [
       "<div>\n",
       "<style scoped>\n",
       "    .dataframe tbody tr th:only-of-type {\n",
       "        vertical-align: middle;\n",
       "    }\n",
       "\n",
       "    .dataframe tbody tr th {\n",
       "        vertical-align: top;\n",
       "    }\n",
       "\n",
       "    .dataframe thead th {\n",
       "        text-align: right;\n",
       "    }\n",
       "</style>\n",
       "<table border=\"1\" class=\"dataframe\">\n",
       "  <thead>\n",
       "    <tr style=\"text-align: right;\">\n",
       "      <th></th>\n",
       "      <th>User ID</th>\n",
       "      <th>Gender</th>\n",
       "      <th>Age</th>\n",
       "      <th>EstimatedSalary</th>\n",
       "      <th>Purchased</th>\n",
       "    </tr>\n",
       "  </thead>\n",
       "  <tbody>\n",
       "    <tr>\n",
       "      <th>0</th>\n",
       "      <td>15624510</td>\n",
       "      <td>1</td>\n",
       "      <td>19.0</td>\n",
       "      <td>19000.0</td>\n",
       "      <td>0</td>\n",
       "    </tr>\n",
       "    <tr>\n",
       "      <th>1</th>\n",
       "      <td>15810944</td>\n",
       "      <td>1</td>\n",
       "      <td>35.0</td>\n",
       "      <td>20000.0</td>\n",
       "      <td>0</td>\n",
       "    </tr>\n",
       "    <tr>\n",
       "      <th>2</th>\n",
       "      <td>15668575</td>\n",
       "      <td>0</td>\n",
       "      <td>26.0</td>\n",
       "      <td>43000.0</td>\n",
       "      <td>0</td>\n",
       "    </tr>\n",
       "    <tr>\n",
       "      <th>3</th>\n",
       "      <td>15603246</td>\n",
       "      <td>0</td>\n",
       "      <td>27.0</td>\n",
       "      <td>57000.0</td>\n",
       "      <td>0</td>\n",
       "    </tr>\n",
       "    <tr>\n",
       "      <th>4</th>\n",
       "      <td>15804002</td>\n",
       "      <td>1</td>\n",
       "      <td>19.0</td>\n",
       "      <td>76000.0</td>\n",
       "      <td>0</td>\n",
       "    </tr>\n",
       "  </tbody>\n",
       "</table>\n",
       "</div>"
      ],
      "text/plain": [
       "    User ID  Gender   Age  EstimatedSalary  Purchased\n",
       "0  15624510       1  19.0          19000.0          0\n",
       "1  15810944       1  35.0          20000.0          0\n",
       "2  15668575       0  26.0          43000.0          0\n",
       "3  15603246       0  27.0          57000.0          0\n",
       "4  15804002       1  19.0          76000.0          0"
      ]
     },
     "execution_count": 8,
     "metadata": {},
     "output_type": "execute_result"
    }
   ],
   "source": [
    "#Lets convert Gender column values into numerical\n",
    "df[\"Gender\"]=df[\"Gender\"].replace({\"Female\":0,\"Male\":1})#Now 1 represents male and 0 represents female\n",
    "df.head()\n",
    "#We converted the Gender column values to 1 and 0 because we are going to apply Logistic Regression and all machine \n",
    "#learning algorithms only understand numeric data and not categorical so we converted the values\n",
    "#Now all data in dataset is numeric now we can appy Logistic Regression"
   ]
  },
  {
   "cell_type": "code",
   "execution_count": 9,
   "id": "c8c9fd15",
   "metadata": {},
   "outputs": [],
   "source": [
    "x=df[[\"User ID\",\"Gender\",\"Age\",\"EstimatedSalary\"]]#Input to our model\n",
    "y=df[\"Purchased\"]#this is the output of our model"
   ]
  },
  {
   "cell_type": "code",
   "execution_count": 10,
   "id": "fe214e34",
   "metadata": {},
   "outputs": [],
   "source": [
    "from sklearn.model_selection import train_test_split#Here we are importing train_test_split from sci-kit learn\n",
    "xtrain, xtest, ytrain, ytest = train_test_split(x, y, test_size=0.2, random_state=42)#We are dividing the values of the User\n",
    "#ID,Gender,Age and Estimated Salary which are inputs(X) for the model and Purchased which is output for the model(Y)\n",
    "#So we are dividing their values into training and testing 80% of data is training\n",
    "#test_size=0.2 denotes 20% of data wil be testing dataset\n",
    "#random state ensures that whenever we run the program every time the same values of the data are taken for training \n",
    "#and testing means suppose we have 100 records in our data out of which we are using 80  for training and 20 for testing\n",
    "#so every time the same 80 values will be in training and same 20 values will be in testing means not a single record of \n",
    "#training data will go in the testing data and not single value of testing data will come in training data means there will\n",
    "#be no shuffling of records the same data will be used for training and testing every time we run the program this is \n",
    "#the use of random state\n",
    "\n",
    "#In random_state=42 42 is just a normal number there is no role of zero we have to just write it when we are using \n",
    "#random_state  we can use any other number other than zero as well like 1,4,10 etc.42 is the most common number you see\n",
    "#in programs"
   ]
  },
  {
   "cell_type": "code",
   "execution_count": 11,
   "id": "c36c2c9b",
   "metadata": {},
   "outputs": [],
   "source": [
    "from sklearn.linear_model import LogisticRegression#we are importing Logistic regression from sci-kit learn\n",
    "model = LogisticRegression()#we created object of Logistic Regression\n",
    "\n",
    "#Logistic Regression is used for classification problems.In Linear regression we predicted numerical value but \n",
    "#Logistic Regression is used to predict categorial value like whether the email is spam or not(binary classification as \n",
    "#only two values “spam” or “not spam”),Positive or Negative,Pass or Fail,Yes or No,True or False,will the customer buy \n",
    "#insurance or not etc.In Logistic Regression the Sigmoid Function converts the Input variable(X) between 0 and 1.\n",
    "#The formula of Sigmoid function is  y=1/1+e^-x here y is dependent variable(what we want to predict) and x is Independent\n",
    "#variable and  the graph is of S shape."
   ]
  },
  {
   "cell_type": "code",
   "execution_count": 12,
   "id": "c2de0ee0",
   "metadata": {},
   "outputs": [
    {
     "data": {
      "text/plain": [
       "LogisticRegression()"
      ]
     },
     "execution_count": 12,
     "metadata": {},
     "output_type": "execute_result"
    }
   ],
   "source": [
    "model.fit(xtrain, ytrain)#it teaches the Linear regression model using the training dataset means here we have the inputs\n",
    "#in xtrain and we have outputs also already defit for the inputs in ytrain now the model learns this data so that it \n",
    "#can predict values when any unseen/new data comes to predict"
   ]
  },
  {
   "cell_type": "code",
   "execution_count": 13,
   "id": "eaa51c6f",
   "metadata": {},
   "outputs": [],
   "source": [
    "y_pred = model.predict(xtest)#it tells the model to predict the output for the input(xtest).We are testing the model here\n",
    "#after training"
   ]
  },
  {
   "cell_type": "code",
   "execution_count": 14,
   "id": "6a788d5b",
   "metadata": {},
   "outputs": [
    {
     "data": {
      "text/plain": [
       "0.7375"
      ]
     },
     "execution_count": 14,
     "metadata": {},
     "output_type": "execute_result"
    }
   ],
   "source": [
    "from sklearn.metrics import accuracy_score #sklearn.metric is used to import metrics\n",
    "score=accuracy_score(ytest,y_pred)#Accuracy score formula is number of correct predictions/total no.of predictions\n",
    "#ytest means the correct outputs and y_predicted means predicted outputs\n",
    "score#We see that our accuracy is 0.7375 means 73.75% so it is not very good nor very bad\n",
    "#To"
   ]
  },
  {
   "cell_type": "code",
   "execution_count": 15,
   "id": "5807e8b5",
   "metadata": {},
   "outputs": [],
   "source": [
    "#Confusion Matrix is a table that helps you to know how well the model is performing.It divides the predictions in four \n",
    "#types which are True Positive(TP),True Negative(TN),False Positive(FP) & False Negative(FN)\n",
    "\n",
    "#True Positive(TP)means when model predicted answers match to the actual output\n",
    "#Like for Example if a model predicts that student will pass the exam and if the student really passes the exam then its \n",
    "#True Positive\n",
    "\n",
    "##True Negative(TN)also means when model predicted answers match to the actual output\n",
    "#Like for Example if a model predicts that student will fail the exam and if the student fails(actual output) the exam \n",
    "#then its True Negative\n",
    "\n",
    "#False Positive(FP) and False Negative(FN) means when the model predicted answers match to the actual output\n",
    "\n",
    "#Like for Example if a model predicts that student will fail the exam and if the student pass(actual output) the exam \n",
    "#then its False Negative(FN)\n",
    "\n",
    "#If a model predicts that student will pass the exam and if the student fails(actual output) the exam \n",
    "#then its False Positive"
   ]
  },
  {
   "cell_type": "code",
   "execution_count": 16,
   "id": "2a0d001f",
   "metadata": {},
   "outputs": [
    {
     "name": "stdout",
     "output_type": "stream",
     "text": [
      "Confusion Matrix:\n",
      " [[49  3]\n",
      " [18 10]]\n"
     ]
    }
   ],
   "source": [
    "from sklearn.metrics import confusion_matrix\n",
    "print(\"Confusion Matrix:\\n\", confusion_matrix(ytest, y_pred))#it creates a confusion matrix of model's predicted answers\n",
    "#(y_pred)and actual answers(ytest)"
   ]
  },
  {
   "cell_type": "code",
   "execution_count": 18,
   "id": "1bd1df4b",
   "metadata": {},
   "outputs": [],
   "source": [
    "TP,FP,FN,TN=confusion_matrix(ytest, y_pred,labels=[0,1]).reshape(-1)#labels=[0,1]tells the confusion matrix that we have \n",
    "#two outputs which is either 0(fail) or 1(pass) so 0 is our negative class and 1 is our positive class\n",
    "#TP,FP,TN,FN=confusion_matrix(ytest, y_pred) creates a matrix of confusion matrix and we convert that matrix into list\n",
    "#using reshape(-1) so we easily access individual elements like TP,FN,FP and TN"
   ]
  },
  {
   "cell_type": "code",
   "execution_count": 23,
   "id": "92aef0c4",
   "metadata": {},
   "outputs": [
    {
     "name": "stdout",
     "output_type": "stream",
     "text": [
      "TP = 49\n",
      "FP = 3\n",
      "FN = 18\n",
      "TN = 10\n"
     ]
    }
   ],
   "source": [
    "print(\"TP =\",TP)#printing value of TP\n",
    "print(\"FP =\",FP)#printing value of FP\n",
    "print(\"FN =\",TN)#printing value of FN\n",
    "print(\"TN =\",FN)#printing value of TN"
   ]
  },
  {
   "cell_type": "code",
   "execution_count": 20,
   "id": "96d3cb60",
   "metadata": {},
   "outputs": [],
   "source": [
    "accuracy=(TP+TN)/(TP+FP+TN+FN)#formula to calculate accuracy\n",
    "precision=TP/(TP+FP)#formula to calculate precision\n",
    "recall=TP/(TP+FN)#formula to calculate recall\n",
    "f1_Score=(2*precision*recall)/(precision+recall)#formula to calculate f1 score"
   ]
  },
  {
   "cell_type": "code",
   "execution_count": 21,
   "id": "ab7fd600",
   "metadata": {},
   "outputs": [
    {
     "name": "stdout",
     "output_type": "stream",
     "text": [
      "Accuracy =  0.8375\n",
      "Precision =  0.9423076923076923\n",
      "Recall =  0.8305084745762712\n",
      "F1 Score =  0.8828828828828829\n"
     ]
    }
   ],
   "source": [
    "print(\"Accuracy = \",accuracy)#printing accuracy\n",
    "print(\"Precision = \",precision)#printing precision\n",
    "print(\"Recall = \",recall)#printing recall\n",
    "print(\"F1 Score = \",f1_Score)#printing f1 score"
   ]
  },
  {
   "cell_type": "code",
   "execution_count": null,
   "id": "e3f14662",
   "metadata": {},
   "outputs": [],
   "source": []
  }
 ],
 "metadata": {
  "kernelspec": {
   "display_name": "Python 3 (ipykernel)",
   "language": "python",
   "name": "python3"
  },
  "language_info": {
   "codemirror_mode": {
    "name": "ipython",
    "version": 3
   },
   "file_extension": ".py",
   "mimetype": "text/x-python",
   "name": "python",
   "nbconvert_exporter": "python",
   "pygments_lexer": "ipython3",
   "version": "3.9.13"
  }
 },
 "nbformat": 4,
 "nbformat_minor": 5
}
